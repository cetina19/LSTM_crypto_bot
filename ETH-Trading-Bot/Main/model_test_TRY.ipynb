{
 "cells": [
  {
   "cell_type": "code",
   "execution_count": 2,
   "metadata": {},
   "outputs": [
    {
     "name": "stderr",
     "output_type": "stream",
     "text": [
      "c:\\Users\\90507\\AppData\\Local\\Programs\\Python\\Python37\\lib\\site-packages\\tensorflow\\python\\framework\\dtypes.py:516: FutureWarning: Passing (type, 1) or '1type' as a synonym of type is deprecated; in a future version of numpy, it will be understood as (type, (1,)) / '(1,)type'.\n",
      "  _np_qint8 = np.dtype([(\"qint8\", np.int8, 1)])\n",
      "c:\\Users\\90507\\AppData\\Local\\Programs\\Python\\Python37\\lib\\site-packages\\tensorflow\\python\\framework\\dtypes.py:517: FutureWarning: Passing (type, 1) or '1type' as a synonym of type is deprecated; in a future version of numpy, it will be understood as (type, (1,)) / '(1,)type'.\n",
      "  _np_quint8 = np.dtype([(\"quint8\", np.uint8, 1)])\n",
      "c:\\Users\\90507\\AppData\\Local\\Programs\\Python\\Python37\\lib\\site-packages\\tensorflow\\python\\framework\\dtypes.py:518: FutureWarning: Passing (type, 1) or '1type' as a synonym of type is deprecated; in a future version of numpy, it will be understood as (type, (1,)) / '(1,)type'.\n",
      "  _np_qint16 = np.dtype([(\"qint16\", np.int16, 1)])\n",
      "c:\\Users\\90507\\AppData\\Local\\Programs\\Python\\Python37\\lib\\site-packages\\tensorflow\\python\\framework\\dtypes.py:519: FutureWarning: Passing (type, 1) or '1type' as a synonym of type is deprecated; in a future version of numpy, it will be understood as (type, (1,)) / '(1,)type'.\n",
      "  _np_quint16 = np.dtype([(\"quint16\", np.uint16, 1)])\n",
      "c:\\Users\\90507\\AppData\\Local\\Programs\\Python\\Python37\\lib\\site-packages\\tensorflow\\python\\framework\\dtypes.py:520: FutureWarning: Passing (type, 1) or '1type' as a synonym of type is deprecated; in a future version of numpy, it will be understood as (type, (1,)) / '(1,)type'.\n",
      "  _np_qint32 = np.dtype([(\"qint32\", np.int32, 1)])\n",
      "c:\\Users\\90507\\AppData\\Local\\Programs\\Python\\Python37\\lib\\site-packages\\tensorflow\\python\\framework\\dtypes.py:525: FutureWarning: Passing (type, 1) or '1type' as a synonym of type is deprecated; in a future version of numpy, it will be understood as (type, (1,)) / '(1,)type'.\n",
      "  np_resource = np.dtype([(\"resource\", np.ubyte, 1)])\n",
      "c:\\Users\\90507\\AppData\\Local\\Programs\\Python\\Python37\\lib\\site-packages\\tensorboard\\compat\\tensorflow_stub\\dtypes.py:541: FutureWarning: Passing (type, 1) or '1type' as a synonym of type is deprecated; in a future version of numpy, it will be understood as (type, (1,)) / '(1,)type'.\n",
      "  _np_qint8 = np.dtype([(\"qint8\", np.int8, 1)])\n",
      "c:\\Users\\90507\\AppData\\Local\\Programs\\Python\\Python37\\lib\\site-packages\\tensorboard\\compat\\tensorflow_stub\\dtypes.py:542: FutureWarning: Passing (type, 1) or '1type' as a synonym of type is deprecated; in a future version of numpy, it will be understood as (type, (1,)) / '(1,)type'.\n",
      "  _np_quint8 = np.dtype([(\"quint8\", np.uint8, 1)])\n",
      "c:\\Users\\90507\\AppData\\Local\\Programs\\Python\\Python37\\lib\\site-packages\\tensorboard\\compat\\tensorflow_stub\\dtypes.py:543: FutureWarning: Passing (type, 1) or '1type' as a synonym of type is deprecated; in a future version of numpy, it will be understood as (type, (1,)) / '(1,)type'.\n",
      "  _np_qint16 = np.dtype([(\"qint16\", np.int16, 1)])\n",
      "c:\\Users\\90507\\AppData\\Local\\Programs\\Python\\Python37\\lib\\site-packages\\tensorboard\\compat\\tensorflow_stub\\dtypes.py:544: FutureWarning: Passing (type, 1) or '1type' as a synonym of type is deprecated; in a future version of numpy, it will be understood as (type, (1,)) / '(1,)type'.\n",
      "  _np_quint16 = np.dtype([(\"quint16\", np.uint16, 1)])\n",
      "c:\\Users\\90507\\AppData\\Local\\Programs\\Python\\Python37\\lib\\site-packages\\tensorboard\\compat\\tensorflow_stub\\dtypes.py:545: FutureWarning: Passing (type, 1) or '1type' as a synonym of type is deprecated; in a future version of numpy, it will be understood as (type, (1,)) / '(1,)type'.\n",
      "  _np_qint32 = np.dtype([(\"qint32\", np.int32, 1)])\n",
      "c:\\Users\\90507\\AppData\\Local\\Programs\\Python\\Python37\\lib\\site-packages\\tensorboard\\compat\\tensorflow_stub\\dtypes.py:550: FutureWarning: Passing (type, 1) or '1type' as a synonym of type is deprecated; in a future version of numpy, it will be understood as (type, (1,)) / '(1,)type'.\n",
      "  np_resource = np.dtype([(\"resource\", np.ubyte, 1)])\n",
      "c:\\Users\\90507\\AppData\\Local\\Programs\\Python\\Python37\\lib\\site-packages\\stable_baselines\\__init__.py:33: UserWarning: stable-baselines is in maintenance mode, please use [Stable-Baselines3 (SB3)](https://github.com/DLR-RM/stable-baselines3) for an up-to-date version. You can find a [migration guide](https://stable-baselines3.readthedocs.io/en/master/guide/migration.html) in SB3 documentation.\n",
      "  \"stable-baselines is in maintenance mode, please use [Stable-Baselines3 (SB3)](https://github.com/DLR-RM/stable-baselines3) for an up-to-date version. You can find a [migration guide](https://stable-baselines3.readthedocs.io/en/master/guide/migration.html) in SB3 documentation.\"\n"
     ]
    }
   ],
   "source": [
    "from time import sleep\n",
    "import numpy as np\n",
    "import urllib3\n",
    "import matplotlib\n",
    "from numpy import append\n",
    "import config\n",
    "import vectorbt as vbt\n",
    "import pandas as pd\n",
    "import pandas_ta as ta\n",
    "from datetime import datetime\n",
    "from alpaca_trade_api.rest import REST\n",
    "import gym\n",
    "import gym_anytrading\n",
    "from tensorflow.keras.models import load_model\n",
    "import requests\n",
    "\n",
    "from stable_baselines import ACKTR\n",
    "from stable_baselines.common.evaluation import evaluate_policy"
   ]
  },
  {
   "cell_type": "code",
   "execution_count": 2,
   "metadata": {},
   "outputs": [
    {
     "data": {
      "text/plain": [
       "119"
      ]
     },
     "execution_count": 2,
     "metadata": {},
     "output_type": "execute_result"
    },
    {
     "data": {
      "image/png": "[encoded data removed]",
      "text/plain": [
       "<Figure size 432x288 with 1 Axes>"
      ]
     },
     "metadata": {
      "needs_background": "light"
     },
     "output_type": "display_data"
    }
   ],
   "source": [
    "data = vbt.YFData.download(symbols= 'TRY=X', period=\"119d\")\n",
    "#df = vbt.Portfolio.from_holding(data, init_cash=100)\n",
    "#print(data.data['TRYUSD=X']['Close'])\n",
    "X=data.data['TRY=X'].index\n",
    "Y=data.data['TRY=X'].Close\n",
    "data.data['TRY=X'].reset_index().plot(x='Date', y='Close')\n",
    "X=data.data['TRY=X']\n",
    "liraDF = pd.DataFrame( X['Close'])\n",
    "LiraArray = np.array(liraDF)\n",
    "liraDF.size"
   ]
  },
  {
   "cell_type": "code",
   "execution_count": 3,
   "metadata": {},
   "outputs": [
    {
     "data": {
      "text/plain": [
       "array([[0.07859305],\n",
       "       [0.05389412],\n",
       "       [0.06087165],\n",
       "       [0.0400852 ],\n",
       "       [0.        ],\n",
       "       [0.0407897 ],\n",
       "       [0.06985293],\n",
       "       [0.07402933],\n",
       "       [0.07306386],\n",
       "       [0.07542147],\n",
       "       [0.07803175],\n",
       "       [0.07567388],\n",
       "       [0.07393378],\n",
       "       [0.00316328],\n",
       "       [0.0261106 ],\n",
       "       [0.03037399],\n",
       "       [0.03257448],\n",
       "       [0.03747492],\n",
       "       [0.04488473],\n",
       "       [0.03974553],\n",
       "       [0.05493267],\n",
       "       [0.05114358],\n",
       "       [0.02992512],\n",
       "       [0.00660146],\n",
       "       [0.00915553],\n",
       "       [0.01816492],\n",
       "       [0.01791251],\n",
       "       [0.02327307],\n",
       "       [0.02638871],\n",
       "       [0.03054236],\n",
       "       [0.04098055],\n",
       "       [0.05308015],\n",
       "       [0.06004081],\n",
       "       [0.06784329],\n",
       "       [0.07067815],\n",
       "       [0.06480929],\n",
       "       [0.08333637],\n",
       "       [0.09226144],\n",
       "       [0.06983607],\n",
       "       [0.05100332],\n",
       "       [0.08619344],\n",
       "       [0.10725772],\n",
       "       [0.15167913],\n",
       "       [0.2154049 ],\n",
       "       [0.20416425],\n",
       "       [0.23823739],\n",
       "       [0.25883835],\n",
       "       [0.29254666],\n",
       "       [0.38003106],\n",
       "       [0.39246471],\n",
       "       [0.37740686],\n",
       "       [0.38505516],\n",
       "       [0.38595318],\n",
       "       [0.43209514],\n",
       "       [0.50240257],\n",
       "       [0.50596736],\n",
       "       [0.49855728],\n",
       "       [0.51236619],\n",
       "       [0.51074681],\n",
       "       [0.52926291],\n",
       "       [0.54043317],\n",
       "       [0.54750599],\n",
       "       [0.57153977],\n",
       "       [0.63967749],\n",
       "       [0.73507438],\n",
       "       [0.75264669],\n",
       "       [0.75104711],\n",
       "       [0.76092668],\n",
       "       [0.75592507],\n",
       "       [0.75174893],\n",
       "       [0.76864511],\n",
       "       [0.77984375],\n",
       "       [0.7730236 ],\n",
       "       [0.78251024],\n",
       "       [0.78155574],\n",
       "       [0.78248187],\n",
       "       [0.59246915],\n",
       "       [0.56297123],\n",
       "       [0.58000767],\n",
       "       [0.58104621],\n",
       "       [0.59892473],\n",
       "       [0.61061159],\n",
       "       [0.62321118],\n",
       "       [0.68579162],\n",
       "       [0.74504067],\n",
       "       [0.75806372],\n",
       "       [0.7616285 ],\n",
       "       [0.78214514],\n",
       "       [0.76412637],\n",
       "       [0.80080953],\n",
       "       [0.81565699],\n",
       "       [0.78071366],\n",
       "       [0.81478708],\n",
       "       [0.83729676],\n",
       "       [0.85239636],\n",
       "       [0.88761486],\n",
       "       [0.89794892],\n",
       "       [0.91812938],\n",
       "       [0.93014171],\n",
       "       [0.92885049],\n",
       "       [0.95068673],\n",
       "       [0.94431573],\n",
       "       [0.93617599],\n",
       "       [0.95009732],\n",
       "       [0.94661712],\n",
       "       [0.94970439],\n",
       "       [0.94465245],\n",
       "       [0.94860963],\n",
       "       [0.9447365 ],\n",
       "       [0.92960852],\n",
       "       [0.95178148],\n",
       "       [0.94922741],\n",
       "       [0.95255611],\n",
       "       [0.93975469],\n",
       "       [0.95035   ],\n",
       "       [0.98759473],\n",
       "       [0.99070983],\n",
       "       [0.99160812],\n",
       "       [1.        ]])"
      ]
     },
     "execution_count": 3,
     "metadata": {},
     "output_type": "execute_result"
    }
   ],
   "source": [
    "from sklearn.preprocessing import MinMaxScaler\n",
    "sc = MinMaxScaler(feature_range = (0,1))\n",
    "testingSet = pd.DataFrame(liraDF)\n",
    "testing_set_scaled = sc.fit_transform(testingSet)\n",
    "testing_set_scaled"
   ]
  },
  {
   "cell_type": "code",
   "execution_count": 4,
   "metadata": {},
   "outputs": [
    {
     "name": "stderr",
     "output_type": "stream",
     "text": [
      "C:\\Users\\90507\\AppData\\Roaming\\Python\\Python37\\site-packages\\sklearn\\base.py:451: UserWarning: X does not have valid feature names, but MinMaxScaler was fitted with feature names\n",
      "  \"X does not have valid feature names, but\"\n"
     ]
    }
   ],
   "source": [
    "inputs = liraDF[0:].values     #lstm input shape edit\n",
    "inputs = inputs.reshape(-1,1)\n",
    "inputs = sc.transform(inputs)\n",
    "X_test = []\n",
    "for i in range(60,liraDF.size):\n",
    "    X_test.append(inputs[i-60:i,0])\n",
    "X_test = np.array(X_test)\n",
    "#X_test = np.reshape(X_test, (X_test.shape[0], 1))\n",
    "#X_test = np.reshape(X_test, (int(X_test.size/60), 60,1))\n",
    "X_test = np.reshape(X_test, (X_test.shape[0], X_test.shape[1],1))"
   ]
  },
  {
   "cell_type": "code",
   "execution_count": 5,
   "metadata": {},
   "outputs": [
    {
     "data": {
      "text/plain": [
       "array([[[0.07859305],\n",
       "        [0.05389412],\n",
       "        [0.06087165],\n",
       "        ...,\n",
       "        [0.51236619],\n",
       "        [0.51074681],\n",
       "        [0.52926291]],\n",
       "\n",
       "       [[0.05389412],\n",
       "        [0.06087165],\n",
       "        [0.0400852 ],\n",
       "        ...,\n",
       "        [0.51074681],\n",
       "        [0.52926291],\n",
       "        [0.54043317]],\n",
       "\n",
       "       [[0.06087165],\n",
       "        [0.0400852 ],\n",
       "        [0.        ],\n",
       "        ...,\n",
       "        [0.52926291],\n",
       "        [0.54043317],\n",
       "        [0.54750599]],\n",
       "\n",
       "       ...,\n",
       "\n",
       "       [[0.49855728],\n",
       "        [0.51236619],\n",
       "        [0.51074681],\n",
       "        ...,\n",
       "        [0.93975469],\n",
       "        [0.95035   ],\n",
       "        [0.98759473]],\n",
       "\n",
       "       [[0.51236619],\n",
       "        [0.51074681],\n",
       "        [0.52926291],\n",
       "        ...,\n",
       "        [0.95035   ],\n",
       "        [0.98759473],\n",
       "        [0.99070983]],\n",
       "\n",
       "       [[0.51074681],\n",
       "        [0.52926291],\n",
       "        [0.54043317],\n",
       "        ...,\n",
       "        [0.98759473],\n",
       "        [0.99070983],\n",
       "        [0.99160812]]])"
      ]
     },
     "execution_count": 5,
     "metadata": {},
     "output_type": "execute_result"
    }
   ],
   "source": [
    "X_test"
   ]
  },
  {
   "cell_type": "code",
   "execution_count": 6,
   "metadata": {},
   "outputs": [
    {
     "name": "stdout",
     "output_type": "stream",
     "text": [
      "WARNING:tensorflow:From c:\\Users\\90507\\AppData\\Local\\Programs\\Python\\Python37\\lib\\site-packages\\tensorflow\\python\\ops\\init_ops.py:97: calling GlorotUniform.__init__ (from tensorflow.python.ops.init_ops) with dtype is deprecated and will be removed in a future version.\n",
      "Instructions for updating:\n",
      "Call initializer instance with the dtype argument instead of passing it to the constructor\n",
      "WARNING:tensorflow:From c:\\Users\\90507\\AppData\\Local\\Programs\\Python\\Python37\\lib\\site-packages\\tensorflow\\python\\ops\\init_ops.py:1251: calling VarianceScaling.__init__ (from tensorflow.python.ops.init_ops) with dtype is deprecated and will be removed in a future version.\n",
      "Instructions for updating:\n",
      "Call initializer instance with the dtype argument instead of passing it to the constructor\n",
      "WARNING:tensorflow:From c:\\Users\\90507\\AppData\\Local\\Programs\\Python\\Python37\\lib\\site-packages\\tensorflow\\python\\ops\\init_ops.py:97: calling Orthogonal.__init__ (from tensorflow.python.ops.init_ops) with dtype is deprecated and will be removed in a future version.\n",
      "Instructions for updating:\n",
      "Call initializer instance with the dtype argument instead of passing it to the constructor\n",
      "WARNING:tensorflow:From c:\\Users\\90507\\AppData\\Local\\Programs\\Python\\Python37\\lib\\site-packages\\tensorflow\\python\\ops\\init_ops.py:97: calling Zeros.__init__ (from tensorflow.python.ops.init_ops) with dtype is deprecated and will be removed in a future version.\n",
      "Instructions for updating:\n",
      "Call initializer instance with the dtype argument instead of passing it to the constructor\n",
      "WARNING:tensorflow:From c:\\Users\\90507\\AppData\\Local\\Programs\\Python\\Python37\\lib\\site-packages\\tensorflow\\python\\ops\\math_grad.py:1250: add_dispatch_support.<locals>.wrapper (from tensorflow.python.ops.array_ops) is deprecated and will be removed in a future version.\n",
      "Instructions for updating:\n",
      "Use tf.where in 2.0, which has the same broadcast rule as np.where\n"
     ]
    }
   ],
   "source": [
    "lira_model = load_model('Lira_BOT.bot')\n",
    "predicted_close_value = lira_model.predict(X_test)\n",
    "predicted_close_value = sc.inverse_transform(predicted_close_value)"
   ]
  },
  {
   "cell_type": "code",
   "execution_count": 7,
   "metadata": {},
   "outputs": [
    {
     "name": "stdout",
     "output_type": "stream",
     "text": [
      "<class 'pandas.core.frame.DataFrame'>\n",
      "RangeIndex: 59 entries, 0 to 58\n",
      "Data columns (total 1 columns):\n",
      " #   Column  Non-Null Count  Dtype  \n",
      "---  ------  --------------  -----  \n",
      " 0   0       59 non-null     float32\n",
      "dtypes: float32(1)\n",
      "memory usage: 364.0 bytes\n"
     ]
    }
   ],
   "source": [
    "predicted_close_value = pd.DataFrame(predicted_close_value)\n",
    "predicted_close_value.info()"
   ]
  },
  {
   "cell_type": "code",
   "execution_count": 8,
   "metadata": {},
   "outputs": [],
   "source": [
    "test_data = liraDF[60:]\n",
    "real_close_value = test_data.iloc[0:60].values\n",
    "#real_close_value = liraDF[60:]"
   ]
  },
  {
   "cell_type": "code",
   "execution_count": 9,
   "metadata": {},
   "outputs": [
    {
     "data": {
      "image/png": "[encoded data removed]",
      "text/plain": [
       "<Figure size 1152x432 with 1 Axes>"
      ]
     },
     "metadata": {
      "needs_background": "light"
     },
     "output_type": "display_data"
    }
   ],
   "source": [
    "import matplotlib.pyplot as plt\n",
    "figure = plt.figure()\n",
    "figure.set_figwidth(16)\n",
    "figure.set_figheight(6)\n",
    "plt.plot(real_close_value, color='red', label='Real Close Value')\n",
    "plt.plot(predicted_close_value, color='blue', label='Predicted Close Value')\n",
    "plt.title('Turkish Lira Close Value Prediction')\n",
    "plt.xlabel('Time')\n",
    "plt.ylabel('Close Value')\n",
    "plt.legend()\n",
    "plt.show()"
   ]
  },
  {
   "cell_type": "code",
   "execution_count": 10,
   "metadata": {},
   "outputs": [],
   "source": [
    "from scipy.stats import pearsonr\n",
    "from pingouin import corr\n",
    "from researchpy.correlation import corr_case"
   ]
  },
  {
   "cell_type": "code",
   "execution_count": 11,
   "metadata": {},
   "outputs": [
    {
     "name": "stdout",
     "output_type": "stream",
     "text": [
      "Correlation Between Real and Predicted Values = % 85.28067618613767\n",
      "Percentage of Accuracy Between Real and Predicted Values = 98.941\n"
     ]
    }
   ],
   "source": [
    "result = pd.DataFrame(real_close_value)\n",
    "result.insert(1,\"Predicted\", pd.DataFrame(predicted_close_value))\n",
    "result.columns=[\"Real\",\"Predicted\"]\n",
    "print(\"Correlation Between Real and Predicted Values = %\",100*result[\"Real\"].corr(result[\"Predicted\"],method=\"pearson\"))\n",
    "accuracy = 100 * np.mean(np.abs(real_close_value-predicted_close_value) / real_close_value)\n",
    "print(\"Percentage of Accuracy Between Real and Predicted Values = %01.3f\" %(100 - accuracy,))"
   ]
  },
  {
   "cell_type": "code",
   "execution_count": 12,
   "metadata": {},
   "outputs": [],
   "source": [
    "predictions_TRY = predicted_close_value\n",
    "%store -r predictions_SOL"
   ]
  },
  {
   "cell_type": "code",
   "execution_count": 13,
   "metadata": {},
   "outputs": [],
   "source": [
    "predictions_all = np.array([predictions_TRY,predictions_SOL])"
   ]
  },
  {
   "cell_type": "code",
   "execution_count": 14,
   "metadata": {},
   "outputs": [],
   "source": [
    "for i in range(1,len(predictions_all[0])):\n",
    "    predictions_all[0][i] = 100 * (predictions_all[0][i] - predictions_all[0][i-1]) / predictions_all[0][i-1]\n",
    "    predictions_all[1][i] = 100 * (predictions_all[1][i] - predictions_all[1][i-1]) / predictions_all[1][i-1]"
   ]
  },
  {
   "cell_type": "code",
   "execution_count": 15,
   "metadata": {},
   "outputs": [],
   "source": [
    "predictions_all[0] = predictions_all[0] * 0.488 * 0.71 / 1.56\n",
    "predictions_all[1] = predictions_all[1] * 0.369 * 0.86 / 1.56"
   ]
  },
  {
   "cell_type": "code",
   "execution_count": 16,
   "metadata": {},
   "outputs": [
    {
     "name": "stdout",
     "output_type": "stream",
     "text": [
      "[0.06429051]  ***  [-0.10176503]\n"
     ]
    }
   ],
   "source": [
    "changes_all = np.array([predictions_all[0][1:], predictions_all[1][1:]])\n",
    "print(changes_all[0][0],\" *** \",changes_all[1][0])"
   ]
  },
  {
   "cell_type": "code",
   "execution_count": 3,
   "metadata": {},
   "outputs": [
    {
     "name": "stdout",
     "output_type": "stream",
     "text": [
      "300\n"
     ]
    }
   ],
   "source": [
    "latest_eth = vbt.YFData.download(symbols= 'ETH-USD', period=\"60d\").get('Close')\n",
    "\n",
    "buffer = requests.get(\"https://ethgasstation.info/json/ethgasAPI.json\")#latest_eth * vbt.YFData.download(symbols= 'GAS-ETH', period=\"60d\").get('Close')\n",
    "str_temp = str.split(buffer.text,',')\n",
    "str_temp[0] = str_temp[0][1:]\n",
    "columnNames = []\n",
    "numbers = np.array([])\n",
    "for i in range(4):\n",
    "    temp = str.split(str_temp[i],'\"')\n",
    "    temp[2] = temp[2][1:]\n",
    "    columnNames.append(temp[1])\n",
    "    numbers = np.append(numbers,temp[2])\n",
    "numbers = np.reshape(numbers, (1,4))\n",
    "\n",
    "#data = pd.DataFrame(columns=columnNames, data=numbers)\n",
    "print(int(numbers[0][3]))\n",
    "latest_gas = (int(numbers[0][3]) *25000) / 10e8"
   ]
  },
  {
   "cell_type": "code",
   "execution_count": 4,
   "metadata": {},
   "outputs": [
    {
     "name": "stdout",
     "output_type": "stream",
     "text": [
      "['\"fast\":360', '\"fastest\":390', '\"safeLow\":270', '\"average\":300', '\"block_time\":14.88888888888889', '\"blockNum\":14460251', '\"speed\":0.5814697672270163', '\"safeLowWait\":16.1', '\"avgWait\":3', '\"fastWait\":0.5', '\"fastestWait\":0.5', '\"gasPriceRange\":{\"4\":248.2', '\"6\":248.2', '\"8\":248.2', '\"10\":248.2', '\"20\":248.2', '\"30\":248.2', '\"40\":248.2', '\"50\":248.2', '\"60\":248.2', '\"70\":248.2', '\"80\":248.2', '\"90\":248.2', '\"100\":248.2', '\"110\":248.2', '\"120\":248.2', '\"130\":248.2', '\"140\":248.2', '\"150\":248.2', '\"160\":248.2', '\"170\":248.2', '\"180\":248.2', '\"190\":248.2', '\"210\":248.2', '\"230\":248.2', '\"250\":248.2', '\"270\":16.1', '\"290\":4.6', '\"300\":3', '\"310\":2', '\"330\":1.3', '\"350\":0.6', '\"360\":0.5', '\"370\":0.5', '\"390\":0.5}}']\n"
     ]
    }
   ],
   "source": [
    "print(str_temp)"
   ]
  },
  {
   "cell_type": "code",
   "execution_count": 18,
   "metadata": {},
   "outputs": [],
   "source": [
    "buy_sel_signal = np.array([])\n",
    "one_hundred_dollar = (100 + latest_gas * latest_eth[0]) / latest_eth[0]\n",
    "for i in range(len(changes_all[0])):\n",
    "    one_hundred_dollar = (100+latest_gas * latest_eth[i]) / latest_eth[i]\n",
    "    if(changes_all[0][i] * changes_all[1][0] > 0):\n",
    "        if(np.abs((changes_all[0][i] + changes_all[1][i])/2) >= one_hundred_dollar):\n",
    "            if(changes_all[0][i] < 0):\n",
    "                buy_sel_signal = np.append(buy_sel_signal, -1)\n",
    "            else:\n",
    "                buy_sel_signal = np.append(buy_sel_signal, 1)\n",
    "        else:\n",
    "            buy_sel_signal = np.append(buy_sel_signal, 0)\n",
    "    else:\n",
    "        buy_sel_signal = np.append(buy_sel_signal,0)"
   ]
  },
  {
   "cell_type": "code",
   "execution_count": 19,
   "metadata": {},
   "outputs": [],
   "source": [
    "total_eth = 10000 / latest_eth[0]\n",
    "total_money = 10000\n",
    "position = []\n",
    "for i in range(len(buy_sel_signal)):\n",
    "    if buy_sel_signal[i] > 1:\n",
    "        position.append(0)\n",
    "    else:\n",
    "        position.append(1)\n",
    "    \n",
    "for i in range(len(buy_sel_signal)):\n",
    "    if buy_sel_signal[i] == 0 :\n",
    "        position[i] = 1\n",
    "    elif buy_sel_signal[i] == -1  or buy_sel_signal[i] == 1:\n",
    "        position[i] = 0\n",
    "    else:\n",
    "        position[i] = position[i-1]"
   ]
  },
  {
   "cell_type": "code",
   "execution_count": 20,
   "metadata": {},
   "outputs": [],
   "source": [
    "total_records = np.array([buy_sel_signal,buy_sel_signal])\n",
    "for i in range(len(buy_sel_signal)):\n",
    "    total_records[0][i] = total_money\n",
    "    total_records[1][i] = total_eth\n",
    "    one_hundred_dollar = (100+latest_gas * latest_eth[i]) / latest_eth[i]\n",
    "    if(buy_sel_signal[i]!=0 and position[i]!=1):\n",
    "        if(buy_sel_signal[i]==1):\n",
    "            total_eth +=  one_hundred_dollar\n",
    "            total_money = total_money - 100 - latest_gas * latest_eth[i]\n",
    "        elif(buy_sel_signal[i]==-1):\n",
    "            total_eth -=  one_hundred_dollar\n",
    "            total_money = total_money + 100 - latest_gas * latest_eth[i]"
   ]
  },
  {
   "cell_type": "code",
   "execution_count": 21,
   "metadata": {},
   "outputs": [
    {
     "name": "stdout",
     "output_type": "stream",
     "text": [
      "14969.609760131836  ***  6776.440640091604\n",
      " ***** \n",
      "[10183.17357697 10275.16883575 10367.22058075 10459.22173462]  ***  [8.14113768 8.03994321 7.93808287 7.83681935]\n"
     ]
    }
   ],
   "source": [
    "print(total_money,\" *** \",total_eth * latest_eth[-1])\n",
    "print(\" ***** \")\n",
    "print(total_records[0][4:8], \" *** \", total_records[1][4:8])"
   ]
  },
  {
   "cell_type": "code",
   "execution_count": 22,
   "metadata": {},
   "outputs": [
    {
     "name": "stdout",
     "output_type": "stream",
     "text": [
      "Starting Money = $10K\n",
      "Starting Ethereum =  8.334502490125924 ETH\n",
      "Last Total Money =  21746.05040022344\n",
      "Profit = % 8.730252001117204\n"
     ]
    }
   ],
   "source": [
    "print(\"Starting Money = $10K\")\n",
    "print(\"Starting Ethereum = \",(10000 / latest_eth[0]),\"ETH\")\n",
    "print(\"Last Total Money = \", total_money+(total_eth*latest_eth[-1]))\n",
    "profit = 100 * (total_money+(total_eth*latest_eth[-1]) -20000) / 20000\n",
    "print(\"Profit = %\",profit)"
   ]
  }
 ],
 "metadata": {
  "kernelspec": {
   "display_name": "Python 3.7.9 64-bit",
   "language": "python",
   "name": "python3"
  },
  "language_info": {
   "codemirror_mode": {
    "name": "ipython",
    "version": 3
   },
   "file_extension": ".py",
   "mimetype": "text/x-python",
   "name": "python",
   "nbconvert_exporter": "python",
   "pygments_lexer": "ipython3",
   "version": "3.7.9"
  },
  "orig_nbformat": 4,
  "vscode": {
   "interpreter": {
    "hash": "29232f10f6d82a26c657ca4f81771c1b6b84d3819b7ae83f215d80951192e7b2"
   }
  }
 },
 "nbformat": 4,
 "nbformat_minor": 2
}
