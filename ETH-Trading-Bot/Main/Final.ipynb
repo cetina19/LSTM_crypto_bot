{
 "cells": [
  {
   "cell_type": "code",
   "execution_count": 1,
   "metadata": {},
   "outputs": [
    {
     "name": "stderr",
     "output_type": "stream",
     "text": [
      "c:\\Users\\90507\\AppData\\Local\\Programs\\Python\\Python37\\lib\\site-packages\\tensorflow\\python\\framework\\dtypes.py:516: FutureWarning: Passing (type, 1) or '1type' as a synonym of type is deprecated; in a future version of numpy, it will be understood as (type, (1,)) / '(1,)type'.\n",
      "  _np_qint8 = np.dtype([(\"qint8\", np.int8, 1)])\n",
      "c:\\Users\\90507\\AppData\\Local\\Programs\\Python\\Python37\\lib\\site-packages\\tensorflow\\python\\framework\\dtypes.py:517: FutureWarning: Passing (type, 1) or '1type' as a synonym of type is deprecated; in a future version of numpy, it will be understood as (type, (1,)) / '(1,)type'.\n",
      "  _np_quint8 = np.dtype([(\"quint8\", np.uint8, 1)])\n",
      "c:\\Users\\90507\\AppData\\Local\\Programs\\Python\\Python37\\lib\\site-packages\\tensorflow\\python\\framework\\dtypes.py:518: FutureWarning: Passing (type, 1) or '1type' as a synonym of type is deprecated; in a future version of numpy, it will be understood as (type, (1,)) / '(1,)type'.\n",
      "  _np_qint16 = np.dtype([(\"qint16\", np.int16, 1)])\n",
      "c:\\Users\\90507\\AppData\\Local\\Programs\\Python\\Python37\\lib\\site-packages\\tensorflow\\python\\framework\\dtypes.py:519: FutureWarning: Passing (type, 1) or '1type' as a synonym of type is deprecated; in a future version of numpy, it will be understood as (type, (1,)) / '(1,)type'.\n",
      "  _np_quint16 = np.dtype([(\"quint16\", np.uint16, 1)])\n",
      "c:\\Users\\90507\\AppData\\Local\\Programs\\Python\\Python37\\lib\\site-packages\\tensorflow\\python\\framework\\dtypes.py:520: FutureWarning: Passing (type, 1) or '1type' as a synonym of type is deprecated; in a future version of numpy, it will be understood as (type, (1,)) / '(1,)type'.\n",
      "  _np_qint32 = np.dtype([(\"qint32\", np.int32, 1)])\n",
      "c:\\Users\\90507\\AppData\\Local\\Programs\\Python\\Python37\\lib\\site-packages\\tensorflow\\python\\framework\\dtypes.py:525: FutureWarning: Passing (type, 1) or '1type' as a synonym of type is deprecated; in a future version of numpy, it will be understood as (type, (1,)) / '(1,)type'.\n",
      "  np_resource = np.dtype([(\"resource\", np.ubyte, 1)])\n",
      "c:\\Users\\90507\\AppData\\Local\\Programs\\Python\\Python37\\lib\\site-packages\\tensorboard\\compat\\tensorflow_stub\\dtypes.py:541: FutureWarning: Passing (type, 1) or '1type' as a synonym of type is deprecated; in a future version of numpy, it will be understood as (type, (1,)) / '(1,)type'.\n",
      "  _np_qint8 = np.dtype([(\"qint8\", np.int8, 1)])\n",
      "c:\\Users\\90507\\AppData\\Local\\Programs\\Python\\Python37\\lib\\site-packages\\tensorboard\\compat\\tensorflow_stub\\dtypes.py:542: FutureWarning: Passing (type, 1) or '1type' as a synonym of type is deprecated; in a future version of numpy, it will be understood as (type, (1,)) / '(1,)type'.\n",
      "  _np_quint8 = np.dtype([(\"quint8\", np.uint8, 1)])\n",
      "c:\\Users\\90507\\AppData\\Local\\Programs\\Python\\Python37\\lib\\site-packages\\tensorboard\\compat\\tensorflow_stub\\dtypes.py:543: FutureWarning: Passing (type, 1) or '1type' as a synonym of type is deprecated; in a future version of numpy, it will be understood as (type, (1,)) / '(1,)type'.\n",
      "  _np_qint16 = np.dtype([(\"qint16\", np.int16, 1)])\n",
      "c:\\Users\\90507\\AppData\\Local\\Programs\\Python\\Python37\\lib\\site-packages\\tensorboard\\compat\\tensorflow_stub\\dtypes.py:544: FutureWarning: Passing (type, 1) or '1type' as a synonym of type is deprecated; in a future version of numpy, it will be understood as (type, (1,)) / '(1,)type'.\n",
      "  _np_quint16 = np.dtype([(\"quint16\", np.uint16, 1)])\n",
      "c:\\Users\\90507\\AppData\\Local\\Programs\\Python\\Python37\\lib\\site-packages\\tensorboard\\compat\\tensorflow_stub\\dtypes.py:545: FutureWarning: Passing (type, 1) or '1type' as a synonym of type is deprecated; in a future version of numpy, it will be understood as (type, (1,)) / '(1,)type'.\n",
      "  _np_qint32 = np.dtype([(\"qint32\", np.int32, 1)])\n",
      "c:\\Users\\90507\\AppData\\Local\\Programs\\Python\\Python37\\lib\\site-packages\\tensorboard\\compat\\tensorflow_stub\\dtypes.py:550: FutureWarning: Passing (type, 1) or '1type' as a synonym of type is deprecated; in a future version of numpy, it will be understood as (type, (1,)) / '(1,)type'.\n",
      "  np_resource = np.dtype([(\"resource\", np.ubyte, 1)])\n",
      "c:\\Users\\90507\\AppData\\Local\\Programs\\Python\\Python37\\lib\\site-packages\\stable_baselines\\__init__.py:33: UserWarning: stable-baselines is in maintenance mode, please use [Stable-Baselines3 (SB3)](https://github.com/DLR-RM/stable-baselines3) for an up-to-date version. You can find a [migration guide](https://stable-baselines3.readthedocs.io/en/master/guide/migration.html) in SB3 documentation.\n",
      "  \"stable-baselines is in maintenance mode, please use [Stable-Baselines3 (SB3)](https://github.com/DLR-RM/stable-baselines3) for an up-to-date version. You can find a [migration guide](https://stable-baselines3.readthedocs.io/en/master/guide/migration.html) in SB3 documentation.\"\n"
     ]
    }
   ],
   "source": [
    "from time import sleep\n",
    "import numpy as np\n",
    "import urllib3\n",
    "import matplotlib\n",
    "from numpy import append\n",
    "import config\n",
    "import vectorbt as vbt\n",
    "import pandas as pd\n",
    "import pandas_ta as ta\n",
    "from datetime import datetime\n",
    "from alpaca_trade_api.rest import REST\n",
    "import gym\n",
    "import gym_anytrading\n",
    "from tensorflow.keras.models import load_model\n",
    "import requests\n",
    "\n",
    "from stable_baselines import ACKTR\n",
    "from stable_baselines.common.evaluation import evaluate_policy"
   ]
  },
  {
   "cell_type": "code",
   "execution_count": 2,
   "metadata": {},
   "outputs": [
    {
     "data": {
      "text/plain": [
       "119"
      ]
     },
     "execution_count": 2,
     "metadata": {},
     "output_type": "execute_result"
    },
    {
     "data": {
      "image/png": "[encoded data removed]",
      "text/plain": [
       "<Figure size 432x288 with 1 Axes>"
      ]
     },
     "metadata": {
      "needs_background": "light"
     },
     "output_type": "display_data"
    }
   ],
   "source": [
    "data = vbt.YFData.download(symbols= 'TRY=X', period=\"119d\")\n",
    "#df = vbt.Portfolio.from_holding(data, init_cash=100)\n",
    "#print(data.data['TRYUSD=X']['Close'])\n",
    "X=data.data['TRY=X'].index\n",
    "Y=data.data['TRY=X'].Close\n",
    "data.data['TRY=X'].reset_index().plot(x='Date', y='Close')\n",
    "X=data.data['TRY=X']\n",
    "liraDF = pd.DataFrame( X['Close'])\n",
    "LiraArray = np.array(liraDF)\n",
    "liraDF.size"
   ]
  },
  {
   "cell_type": "code",
   "execution_count": 3,
   "metadata": {},
   "outputs": [
    {
     "data": {
      "text/plain": [
       "array([[0.05044011],\n",
       "       [0.        ],\n",
       "       [0.04174761],\n",
       "       [0.18849916],\n",
       "       [0.20077328],\n",
       "       [0.20431271],\n",
       "       [0.23737837],\n",
       "       [0.26734966],\n",
       "       [0.28703381],\n",
       "       [0.28892376],\n",
       "       [0.30273768],\n",
       "       [0.2698492 ],\n",
       "       [0.31291092],\n",
       "       [0.33270687],\n",
       "       [0.33705206],\n",
       "       [0.3405029 ],\n",
       "       [0.35384012],\n",
       "       [0.34830105],\n",
       "       [0.36765404],\n",
       "       [0.34852042],\n",
       "       [0.3497375 ],\n",
       "       [0.37616935],\n",
       "       [0.35700409],\n",
       "       [0.40582847],\n",
       "       [0.38490404],\n",
       "       [0.4275924 ],\n",
       "       [0.44729976],\n",
       "       [0.45203307],\n",
       "       [0.47746722],\n",
       "       [0.58197546],\n",
       "       [0.6007737 ],\n",
       "       [0.59347546],\n",
       "       [0.68238952],\n",
       "       [0.65385678],\n",
       "       [0.67453653],\n",
       "       [0.68283248],\n",
       "       [0.73370289],\n",
       "       [0.71008064],\n",
       "       [0.73989584],\n",
       "       [0.74288053],\n",
       "       [0.74852084],\n",
       "       [0.74962823],\n",
       "       [0.66756945],\n",
       "       [0.71512402],\n",
       "       [0.75272471],\n",
       "       [0.71071133],\n",
       "       [0.74498352],\n",
       "       [0.75957999],\n",
       "       [0.75139584],\n",
       "       [0.71670601],\n",
       "       [0.75703616],\n",
       "       [0.77473122],\n",
       "       [0.75659531],\n",
       "       [0.77705358],\n",
       "       [0.73731826],\n",
       "       [0.78564694],\n",
       "       [0.7719659 ],\n",
       "       [0.78379918],\n",
       "       [0.77738474],\n",
       "       [0.76728955],\n",
       "       [0.59469254],\n",
       "       [0.70141134],\n",
       "       [0.75066602],\n",
       "       [0.63743574],\n",
       "       [0.64735376],\n",
       "       [0.75736943],\n",
       "       [0.77572682],\n",
       "       [0.77128038],\n",
       "       [0.76632559],\n",
       "       [0.77874525],\n",
       "       [0.76787383],\n",
       "       [0.78059301],\n",
       "       [0.77716326],\n",
       "       [0.79684952],\n",
       "       [0.7628199 ],\n",
       "       [0.78766977],\n",
       "       [0.81133632],\n",
       "       [0.80038685],\n",
       "       [0.80326396],\n",
       "       [0.80116097],\n",
       "       [0.79441537],\n",
       "       [0.79662805],\n",
       "       [0.7970478 ],\n",
       "       [0.80982183],\n",
       "       [0.80659246],\n",
       "       [0.78700745],\n",
       "       [0.79983421],\n",
       "       [0.77580486],\n",
       "       [0.81653367],\n",
       "       [0.79253597],\n",
       "       [0.81719811],\n",
       "       [0.80777579],\n",
       "       [0.8278143 ],\n",
       "       [0.84421425],\n",
       "       [0.79312236],\n",
       "       [0.83002487],\n",
       "       [0.83024635],\n",
       "       [0.87080009],\n",
       "       [0.88110621],\n",
       "       [0.81667711],\n",
       "       [0.92568453],\n",
       "       [0.88539656],\n",
       "       [0.91755733],\n",
       "       [0.95145195],\n",
       "       [0.95354228],\n",
       "       [0.94249368],\n",
       "       [0.93802614],\n",
       "       [0.95897167],\n",
       "       [0.96483346],\n",
       "       [0.96966591],\n",
       "       [0.96526587],\n",
       "       [0.93600331],\n",
       "       [0.94750331],\n",
       "       [0.98031585],\n",
       "       [0.98103513],\n",
       "       [0.8990776 ],\n",
       "       [0.98311491],\n",
       "       [0.99281356],\n",
       "       [1.        ]])"
      ]
     },
     "execution_count": 3,
     "metadata": {},
     "output_type": "execute_result"
    }
   ],
   "source": [
    "from sklearn.preprocessing import MinMaxScaler\n",
    "sc = MinMaxScaler(feature_range = (0,1))\n",
    "testingSet = pd.DataFrame(liraDF)\n",
    "testing_set_scaled = sc.fit_transform(testingSet)\n",
    "testing_set_scaled"
   ]
  },
  {
   "cell_type": "code",
   "execution_count": 4,
   "metadata": {},
   "outputs": [
    {
     "name": "stderr",
     "output_type": "stream",
     "text": [
      "C:\\Users\\90507\\AppData\\Roaming\\Python\\Python37\\site-packages\\sklearn\\base.py:451: UserWarning: X does not have valid feature names, but MinMaxScaler was fitted with feature names\n",
      "  \"X does not have valid feature names, but\"\n"
     ]
    }
   ],
   "source": [
    "inputs = liraDF[0:].values     #lstm input shape edit\n",
    "inputs = inputs.reshape(-1,1)\n",
    "inputs = sc.transform(inputs)\n",
    "X_test = []\n",
    "for i in range(60,liraDF.size):\n",
    "    X_test.append(inputs[i-60:i,0])\n",
    "X_test = np.array(X_test)\n",
    "#X_test = np.reshape(X_test, (X_test.shape[0], 1))\n",
    "#X_test = np.reshape(X_test, (int(X_test.size/60), 60,1))\n",
    "X_test = np.reshape(X_test, (X_test.shape[0], X_test.shape[1],1))"
   ]
  },
  {
   "cell_type": "code",
   "execution_count": 5,
   "metadata": {},
   "outputs": [
    {
     "data": {
      "text/plain": [
       "array([[[0.05044011],\n",
       "        [0.        ],\n",
       "        [0.04174761],\n",
       "        ...,\n",
       "        [0.78379918],\n",
       "        [0.77738474],\n",
       "        [0.76728955]],\n",
       "\n",
       "       [[0.        ],\n",
       "        [0.04174761],\n",
       "        [0.18849916],\n",
       "        ...,\n",
       "        [0.77738474],\n",
       "        [0.76728955],\n",
       "        [0.59469254]],\n",
       "\n",
       "       [[0.04174761],\n",
       "        [0.18849916],\n",
       "        [0.20077328],\n",
       "        ...,\n",
       "        [0.76728955],\n",
       "        [0.59469254],\n",
       "        [0.70141134]],\n",
       "\n",
       "       ...,\n",
       "\n",
       "       [[0.7719659 ],\n",
       "        [0.78379918],\n",
       "        [0.77738474],\n",
       "        ...,\n",
       "        [0.98031585],\n",
       "        [0.98103513],\n",
       "        [0.8990776 ]],\n",
       "\n",
       "       [[0.78379918],\n",
       "        [0.77738474],\n",
       "        [0.76728955],\n",
       "        ...,\n",
       "        [0.98103513],\n",
       "        [0.8990776 ],\n",
       "        [0.98311491]],\n",
       "\n",
       "       [[0.77738474],\n",
       "        [0.76728955],\n",
       "        [0.59469254],\n",
       "        ...,\n",
       "        [0.8990776 ],\n",
       "        [0.98311491],\n",
       "        [0.99281356]]])"
      ]
     },
     "execution_count": 5,
     "metadata": {},
     "output_type": "execute_result"
    }
   ],
   "source": [
    "X_test"
   ]
  },
  {
   "cell_type": "code",
   "execution_count": 6,
   "metadata": {},
   "outputs": [
    {
     "name": "stdout",
     "output_type": "stream",
     "text": [
      "WARNING:tensorflow:From c:\\Users\\90507\\AppData\\Local\\Programs\\Python\\Python37\\lib\\site-packages\\tensorflow\\python\\ops\\init_ops.py:97: calling GlorotUniform.__init__ (from tensorflow.python.ops.init_ops) with dtype is deprecated and will be removed in a future version.\n",
      "Instructions for updating:\n",
      "Call initializer instance with the dtype argument instead of passing it to the constructor\n",
      "WARNING:tensorflow:From c:\\Users\\90507\\AppData\\Local\\Programs\\Python\\Python37\\lib\\site-packages\\tensorflow\\python\\ops\\init_ops.py:1251: calling VarianceScaling.__init__ (from tensorflow.python.ops.init_ops) with dtype is deprecated and will be removed in a future version.\n",
      "Instructions for updating:\n",
      "Call initializer instance with the dtype argument instead of passing it to the constructor\n",
      "WARNING:tensorflow:From c:\\Users\\90507\\AppData\\Local\\Programs\\Python\\Python37\\lib\\site-packages\\tensorflow\\python\\ops\\init_ops.py:97: calling Orthogonal.__init__ (from tensorflow.python.ops.init_ops) with dtype is deprecated and will be removed in a future version.\n",
      "Instructions for updating:\n",
      "Call initializer instance with the dtype argument instead of passing it to the constructor\n",
      "WARNING:tensorflow:From c:\\Users\\90507\\AppData\\Local\\Programs\\Python\\Python37\\lib\\site-packages\\tensorflow\\python\\ops\\init_ops.py:97: calling Zeros.__init__ (from tensorflow.python.ops.init_ops) with dtype is deprecated and will be removed in a future version.\n",
      "Instructions for updating:\n",
      "Call initializer instance with the dtype argument instead of passing it to the constructor\n",
      "WARNING:tensorflow:From c:\\Users\\90507\\AppData\\Local\\Programs\\Python\\Python37\\lib\\site-packages\\tensorflow\\python\\ops\\math_grad.py:1250: add_dispatch_support.<locals>.wrapper (from tensorflow.python.ops.array_ops) is deprecated and will be removed in a future version.\n",
      "Instructions for updating:\n",
      "Use tf.where in 2.0, which has the same broadcast rule as np.where\n"
     ]
    }
   ],
   "source": [
    "lira_model = load_model('Lira_BOT.bot')\n",
    "predicted_close_value = lira_model.predict(X_test)\n",
    "predicted_close_value = sc.inverse_transform(predicted_close_value)"
   ]
  },
  {
   "cell_type": "code",
   "execution_count": 7,
   "metadata": {},
   "outputs": [
    {
     "name": "stdout",
     "output_type": "stream",
     "text": [
      "<class 'pandas.core.frame.DataFrame'>\n",
      "RangeIndex: 59 entries, 0 to 58\n",
      "Data columns (total 1 columns):\n",
      " #   Column  Non-Null Count  Dtype  \n",
      "---  ------  --------------  -----  \n",
      " 0   0       59 non-null     float32\n",
      "dtypes: float32(1)\n",
      "memory usage: 364.0 bytes\n"
     ]
    }
   ],
   "source": [
    "predicted_close_value = pd.DataFrame(predicted_close_value)\n",
    "predicted_close_value.info()"
   ]
  },
  {
   "cell_type": "code",
   "execution_count": 8,
   "metadata": {},
   "outputs": [],
   "source": [
    "from scipy.stats import pearsonr\n",
    "from pingouin import corr\n",
    "from researchpy.correlation import corr_case"
   ]
  },
  {
   "cell_type": "code",
   "execution_count": 9,
   "metadata": {},
   "outputs": [],
   "source": [
    "predictions_TRY = predicted_close_value\n",
    "%store -r predictions_SOL2"
   ]
  },
  {
   "cell_type": "code",
   "execution_count": 10,
   "metadata": {},
   "outputs": [],
   "source": [
    "predictions_all = np.array([predictions_TRY,predictions_SOL2])"
   ]
  },
  {
   "cell_type": "code",
   "execution_count": 11,
   "metadata": {},
   "outputs": [
    {
     "name": "stdout",
     "output_type": "stream",
     "text": [
      "[[18.634155]\n",
      " [18.62409 ]\n",
      " [18.607893]\n",
      " [18.59428 ]\n",
      " [18.580406]]\n",
      "[[3.718985 ]\n",
      " [3.7342997]\n",
      " [3.738036 ]\n",
      " [3.747687 ]\n",
      " [3.7658548]]\n"
     ]
    }
   ],
   "source": [
    "print(predictions_all[0][0:5])\n",
    "print(predictions_all[1][0:5])\n",
    "change_try = np.zeros(predictions_all[0].size-1)\n",
    "change_sol = np.zeros(predictions_all[0].size-1)"
   ]
  },
  {
   "cell_type": "code",
   "execution_count": 12,
   "metadata": {},
   "outputs": [],
   "source": [
    "for i in range(1,len(predictions_all[0])):\n",
    "    change_try[i-1] = 100 * (predictions_all[0][i] - predictions_all[0][i-1]) / predictions_all[0][i-1]\n",
    "    change_sol[i-1] = 100 * (predictions_all[1][i] - predictions_all[1][i-1]) / predictions_all[1][i-1]"
   ]
  },
  {
   "cell_type": "code",
   "execution_count": 13,
   "metadata": {},
   "outputs": [
    {
     "name": "stdout",
     "output_type": "stream",
     "text": [
      "[-0.00131895  0.00966907 -0.01187974 -0.00836043  0.00877716]  ***  [[18.79915 ]\n",
      " [18.800968]\n",
      " [18.798735]\n",
      " [18.797163]\n",
      " [18.798813]]\n",
      "[ 0.47863328 -1.29259121  0.48643672  0.59832573 -0.96554464]  ***  [[3.8440506]\n",
      " [3.7943628]\n",
      " [3.81282  ]\n",
      " [3.835633 ]\n",
      " [3.7985983]]\n"
     ]
    }
   ],
   "source": [
    "print(change_try[-5:],\" *** \" ,predictions_all[0][-5:])\n",
    "print(change_sol[-5:],\" *** \",predictions_all[1][-5:])"
   ]
  },
  {
   "cell_type": "code",
   "execution_count": 14,
   "metadata": {},
   "outputs": [
    {
     "name": "stdout",
     "output_type": "stream",
     "text": [
      "58  ***  59\n"
     ]
    }
   ],
   "source": [
    "print(change_sol.size,\" *** \",predictions_all[1].size)"
   ]
  },
  {
   "cell_type": "code",
   "execution_count": 15,
   "metadata": {},
   "outputs": [],
   "source": [
    "predictions_all[0] = predictions_all[0] * 0.488 * 0.71 / 1.56\n",
    "predictions_all[1] = predictions_all[1] * 0.369 * 0.86 / 1.56"
   ]
  },
  {
   "cell_type": "code",
   "execution_count": 16,
   "metadata": {},
   "outputs": [
    {
     "name": "stdout",
     "output_type": "stream",
     "text": [
      "-0.054014138877391815  ***  0.4117945730686188\n"
     ]
    }
   ],
   "source": [
    "changes_all = np.array([change_try, change_sol])\n",
    "print(changes_all[0][0],\" *** \",changes_all[1][0])"
   ]
  },
  {
   "cell_type": "code",
   "execution_count": 17,
   "metadata": {},
   "outputs": [
    {
     "name": "stderr",
     "output_type": "stream",
     "text": [
      "C:\\Users\\90507\\AppData\\Roaming\\Python\\Python37\\site-packages\\outdated\\utils.py:18: OutdatedPackageWarning: The package outdated is out of date. Your version is 0.2.1, the latest is 0.2.2.\n",
      "Set the environment variable OUTDATED_IGNORE=1 to disable these warnings.\n",
      "  **kwargs\n",
      "C:\\Users\\90507\\AppData\\Roaming\\Python\\Python37\\site-packages\\outdated\\utils.py:18: OutdatedPackageWarning: The package pingouin is out of date. Your version is 0.5.2, the latest is 0.5.3.\n",
      "Set the environment variable OUTDATED_IGNORE=1 to disable these warnings.\n",
      "  **kwargs\n"
     ]
    }
   ],
   "source": [
    "latest_eth = vbt.YFData.download(symbols= 'ETH-USD', period=\"60d\").get('Close')"
   ]
  },
  {
   "cell_type": "code",
   "execution_count": 18,
   "metadata": {},
   "outputs": [
    {
     "data": {
      "text/plain": [
       "array([0.000439  , 0.00038022, 0.00038022])"
      ]
     },
     "execution_count": 18,
     "metadata": {},
     "output_type": "execute_result"
    }
   ],
   "source": [
    "gas_dummy = pd.read_csv(\"AvgGasPrice.csv\")\n",
    "gas_dummy = gas_dummy[-59:].reset_index()\n",
    "gas_prices = np.array(gas_dummy[\"Value (Wei)\"])\n",
    "gas_prices = np.append(gas_prices,gas_prices[-1])\n",
    "gas_prices = gas_prices * 10e-10\n",
    "gas_prices = gas_prices * 21000 \n",
    "gas_prices = gas_prices * 10e-10\n",
    "gas_prices[-3:]"
   ]
  },
  {
   "cell_type": "code",
   "execution_count": 19,
   "metadata": {},
   "outputs": [],
   "source": [
    "buy_sel_signal = np.array([])\n",
    "one_hundred_dollar = (100 + gas_prices[0] * latest_eth[0]) / latest_eth[0]\n",
    "for i in range(len(changes_all[0])):\n",
    "    one_hundred_dollar = (100+gas_prices[i] * latest_eth[i]) / latest_eth[i]\n",
    "    if(changes_all[0][i] * changes_all[1][0] > 0):\n",
    "        if(np.abs((changes_all[0][i] + changes_all[1][i])/2) >= one_hundred_dollar):\n",
    "            if(changes_all[0][i] < 0):\n",
    "                buy_sel_signal = np.append(buy_sel_signal, -1)\n",
    "            else:\n",
    "                buy_sel_signal = np.append(buy_sel_signal, 1)\n",
    "        else:\n",
    "            buy_sel_signal = np.append(buy_sel_signal, 0)\n",
    "    else:\n",
    "        buy_sel_signal = np.append(buy_sel_signal,0)"
   ]
  },
  {
   "cell_type": "code",
   "execution_count": 20,
   "metadata": {},
   "outputs": [],
   "source": [
    "total_eth = 10000 / latest_eth[0]\n",
    "total_money = 10000\n",
    "position = []\n",
    "for i in range(len(buy_sel_signal)):\n",
    "    if buy_sel_signal[i] > 1:\n",
    "        position.append(0)\n",
    "    else:\n",
    "        position.append(1)\n",
    "    \n",
    "for i in range(len(buy_sel_signal)):\n",
    "    if buy_sel_signal[i] == 0 :\n",
    "        position[i] = 1\n",
    "    elif buy_sel_signal[i] == -1  or buy_sel_signal[i] == 1:\n",
    "        position[i] = 0\n",
    "    else:\n",
    "        position[i] = position[i-1]"
   ]
  },
  {
   "cell_type": "code",
   "execution_count": 21,
   "metadata": {},
   "outputs": [],
   "source": [
    "total_records = np.array([buy_sel_signal,buy_sel_signal])\n",
    "for i in range(len(buy_sel_signal)):\n",
    "    total_records[0][i] = total_money\n",
    "    total_records[1][i] = total_eth\n",
    "    one_hundred_dollar = (100+gas_prices[i] * latest_eth[i]) / latest_eth[i]\n",
    "    if(buy_sel_signal[i]!=0 and position[i]!=1):\n",
    "        if(buy_sel_signal[i]==1):\n",
    "            total_eth +=  one_hundred_dollar\n",
    "            total_money = total_money - 100 - gas_prices[i] * latest_eth[i] - 0.001*(100 + gas_prices[i] * latest_eth[i])\n",
    "        elif(buy_sel_signal[i]==-1):\n",
    "            total_eth -=  one_hundred_dollar\n",
    "            total_money = total_money + 100 - gas_prices[i] * latest_eth[i] - 0.001*(100 + gas_prices[i] * latest_eth[i])"
   ]
  },
  {
   "cell_type": "code",
   "execution_count": 22,
   "metadata": {},
   "outputs": [
    {
     "name": "stdout",
     "output_type": "stream",
     "text": [
      "6876.474731551505  ***  15799.067469393347\n",
      " ***** \n",
      "[10000.         10000.         10000.          9899.01444141]  ***  [7.71790383 7.71790383 7.71790383 7.79723727]\n"
     ]
    }
   ],
   "source": [
    "print(total_money,\" *** \",total_eth * latest_eth[-1])\n",
    "print(\" ***** \")\n",
    "print(total_records[0][4:8], \" *** \", total_records[1][4:8])"
   ]
  },
  {
   "cell_type": "code",
   "execution_count": 23,
   "metadata": {},
   "outputs": [
    {
     "name": "stdout",
     "output_type": "stream",
     "text": [
      "Starting Money = $10K\n",
      "Starting Ethereum =  7.717903831639656 ETH\n",
      "Last Total Money =  22675.542200944852\n",
      "Profit = % 13.37771100472426\n"
     ]
    }
   ],
   "source": [
    "print(\"Starting Money = $10K\")\n",
    "print(\"Starting Ethereum = \",(10000 / latest_eth[0]),\"ETH\")\n",
    "print(\"Last Total Money = \", total_money+(total_eth*latest_eth[-1]))\n",
    "profit = 100 * (total_money+(total_eth*latest_eth[-1]) -20000) / 20000\n",
    "print(\"Profit = %\",profit)"
   ]
  },
  {
   "cell_type": "code",
   "execution_count": 24,
   "metadata": {},
   "outputs": [
    {
     "name": "stdout",
     "output_type": "stream",
     "text": [
      "31\n"
     ]
    }
   ],
   "source": [
    "control = 0\n",
    "for i in range(len(buy_sel_signal)):\n",
    "    #if(buy_sel_signal[i]==1):\n",
    "        #print(\"It is a buy order after \",i+1,\" days\")\n",
    "    if(buy_sel_signal[i]==1):\n",
    "        control = control + 1\n",
    "        #print(\"It is a sell order after \",i+1,\" days\")\n",
    "    #dollar_100 = (100+gas_prices[i] * latest_eth[i]) / latest_eth[i]\n",
    "    #print(np.abs((changes_all[0][i] + changes_all[1][i])/2),\" *** \",dollar_100)\n",
    "    #print(changes_all[0][i] ,\" *** \", changes_all[1][i],\" *** \",dollar_100)\n",
    "print(control)"
   ]
  },
  {
   "cell_type": "code",
   "execution_count": 25,
   "metadata": {},
   "outputs": [
    {
     "name": "stdout",
     "output_type": "stream",
     "text": [
      "-0.054014138877391815  ***  0.4117945730686188\n",
      "-0.08696910738945007  ***  0.10005243122577667\n",
      "-0.07315576821565628  ***  0.2581886351108551\n",
      "-0.07461463660001755  ***  0.4847719073295593\n",
      "-0.07802712917327881  ***  0.0863746702671051\n",
      "-0.04126821830868721  ***  0.4385283887386322\n",
      "-0.0003373283543623984  ***  0.7394713163375854\n",
      "-0.0031586308032274246  ***  0.5733285546302795\n",
      "-0.011786460876464844  ***  -0.5886510014533997\n",
      "-0.0059092603623867035  ***  -0.12462720274925232\n",
      "-0.002954804804176092  ***  -0.2238992303609848\n",
      "-0.006675488315522671  ***  -0.03452560305595398\n",
      "-0.0013189534656703472  ***  0.4786332845687866\n",
      "-0.011879735626280308  ***  0.48643672466278076\n",
      "-0.008360431529581547  ***  0.5983257293701172\n"
     ]
    }
   ],
   "source": [
    "for i in range(change_try.size):\n",
    "    if(change_try[i]<0):\n",
    "        print(change_try[i],\" *** \",change_sol[i])"
   ]
  }
 ],
 "metadata": {
  "kernelspec": {
   "display_name": "Python 3.7.9 64-bit",
   "language": "python",
   "name": "python3"
  },
  "language_info": {
   "codemirror_mode": {
    "name": "ipython",
    "version": 3
   },
   "file_extension": ".py",
   "mimetype": "text/x-python",
   "name": "python",
   "nbconvert_exporter": "python",
   "pygments_lexer": "ipython3",
   "version": "3.7.9"
  },
  "orig_nbformat": 4,
  "vscode": {
   "interpreter": {
    "hash": "29232f10f6d82a26c657ca4f81771c1b6b84d3819b7ae83f215d80951192e7b2"
   }
  }
 },
 "nbformat": 4,
 "nbformat_minor": 2
}
